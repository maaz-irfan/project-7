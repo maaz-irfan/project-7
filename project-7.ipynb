{
  "nbformat": 4,
  "nbformat_minor": 0,
  "metadata": {
    "colab": {
      "provenance": [],
      "authorship_tag": "ABX9TyOl+XS6t7fznmy8fh2m8hX1",
      "include_colab_link": true
    },
    "kernelspec": {
      "name": "python3",
      "display_name": "Python 3"
    },
    "language_info": {
      "name": "python"
    }
  },
  "cells": [
    {
      "cell_type": "markdown",
      "metadata": {
        "id": "view-in-github",
        "colab_type": "text"
      },
      "source": [
        "<a href=\"https://colab.research.google.com/github/maaz-irfan/project-7/blob/main/project-7.ipynb\" target=\"_parent\"><img src=\"https://colab.research.google.com/assets/colab-badge.svg\" alt=\"Open In Colab\"/></a>"
      ]
    },
    {
      "cell_type": "code",
      "execution_count": 1,
      "metadata": {
        "colab": {
          "base_uri": "https://localhost:8080/"
        },
        "id": "1J0DkDjI8jjt",
        "outputId": "84d89f80-e372-4db0-e5fa-1635c82562fd"
      },
      "outputs": [
        {
          "output_type": "stream",
          "name": "stdout",
          "text": [
            "Enter the desired password length: 10\n",
            "Generated Password: 0Q[NkZQ?jw\n"
          ]
        }
      ],
      "source": [
        "# project no :7\n",
        "#password generator\n",
        "import random\n",
        "import string\n",
        "\n",
        "def generate_password(length=12):\n",
        "    if length < 4:  # Ensure minimum length for complexity\n",
        "        raise ValueError(\"Password length must be at least 4 characters.\")\n",
        "\n",
        "    # Define character sets\n",
        "    lowercase = string.ascii_lowercase\n",
        "    uppercase = string.ascii_uppercase\n",
        "    digits = string.digits\n",
        "    special_characters = string.punctuation\n",
        "\n",
        "    # Ensure the password has at least one character from each set\n",
        "    all_characters = lowercase + uppercase + digits + special_characters\n",
        "    password = [\n",
        "        random.choice(lowercase),\n",
        "        random.choice(uppercase),\n",
        "        random.choice(digits),\n",
        "        random.choice(special_characters)\n",
        "    ]\n",
        "\n",
        "    # Fill the rest of the password length with random characters\n",
        "    password += random.choices(all_characters, k=length - 4)\n",
        "\n",
        "    # Shuffle the password list to randomize order\n",
        "    random.shuffle(password)\n",
        "\n",
        "    return ''.join(password)\n",
        "\n",
        "# Example usage\n",
        "password_length = int(input(\"Enter the desired password length: \"))\n",
        "password = generate_password(password_length)\n",
        "print(\"Generated Password:\", password)"
      ]
    }
  ]
}